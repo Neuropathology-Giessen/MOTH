{
 "cells": [
  {
   "cell_type": "code",
   "execution_count": null,
   "source": [
    "from tile_class import QuPathOperations\n",
    "\n",
    "import numpy as np\n",
    "import shapely\n",
    "import matplotlib.pyplot as plt\n",
    "import cv2"
   ],
   "outputs": [],
   "metadata": {}
  },
  {
   "cell_type": "code",
   "execution_count": null,
   "source": [
    "location_x, location_y, size = (50000, 8000, 4096) "
   ],
   "outputs": [],
   "metadata": {}
  },
  {
   "cell_type": "code",
   "execution_count": null,
   "source": [
    "qp = QuPathOperations('./Qupath_data/project.qpproj', mode = 'r+')\n",
    "tile_intersections = qp.get_tile_annot(0, location_x, location_y, size)"
   ],
   "outputs": [],
   "metadata": {}
  },
  {
   "cell_type": "code",
   "execution_count": null,
   "source": [
    "img_mask = np.zeros((size,size))\n",
    "plt.imshow(np.array(qp.get_tile(0, location_x, location_y, size)))\n",
    "plt.show()\n",
    "for i, intersection_data in enumerate(tile_intersections):\n",
    "    _, intersection = intersection_data\n",
    "    trans_inter = shapely.affinity.translate(intersection, location_x * -1, location_y * -1)\n",
    "    # tile_annot.append(translated_intersection)\n",
    "\n",
    "    ## vis annotations in tile\n",
    "    int_coords = lambda coords: np.array(coords).round().astype(np.int32)\n",
    "    exteriors = [int_coords(trans_inter.exterior.coords)]\n",
    "    interiors = [int_coords(poly) for poly in trans_inter.interiors]\n",
    "    \n",
    "    cv2.fillPoly(img_mask, exteriors, i + 1)\n",
    "    cv2.fillPoly(img_mask, interiors, 0)\n",
    "plt.imshow(img_mask)\n",
    "plt.show()"
   ],
   "outputs": [],
   "metadata": {}
  }
 ],
 "metadata": {
  "orig_nbformat": 4,
  "language_info": {
   "name": "python",
   "version": "3.9.9",
   "mimetype": "text/x-python",
   "codemirror_mode": {
    "name": "ipython",
    "version": 3
   },
   "pygments_lexer": "ipython3",
   "nbconvert_exporter": "python",
   "file_extension": ".py"
  },
  "kernelspec": {
   "name": "python3",
   "display_name": "Python 3.9.9 64-bit"
  },
  "interpreter": {
   "hash": "4cd7ab41f5fca4b9b44701077e38c5ffd31fe66a6cab21e0214b68d958d0e462"
  }
 },
 "nbformat": 4,
 "nbformat_minor": 2
}