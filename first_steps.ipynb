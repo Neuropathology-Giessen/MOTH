{
 "cells": [
  {
   "cell_type": "code",
   "execution_count": null,
   "source": [
    "import os\n",
    "import json\n",
    "\n",
    "from paquo.projects import QuPathProject\n",
    "import matplotlib.pyplot as plt\n",
    "import pandas as pd\n",
    "import cv2\n",
    "import numpy as np\n",
    "import PIL\n",
    "from PIL import Image\n",
    "from openslide import OpenSlide\n",
    "import shapely\n",
    "from shapely.geometry import Polygon"
   ],
   "outputs": [],
   "metadata": {}
  },
  {
   "cell_type": "markdown",
   "source": [
    "# open the QuPath project and print classes"
   ],
   "metadata": {}
  },
  {
   "cell_type": "code",
   "execution_count": null,
   "source": [
    "qp = QuPathProject('./Qupath_data/project.qpproj', mode = 'r+')\n",
    "qp_class_dic = {}\n",
    "for i, ann_cls in enumerate(qp.path_classes):\n",
    "    qp_class_dic[ann_cls.id] = i\n",
    "qp_class_dic"
   ],
   "outputs": [],
   "metadata": {}
  },
  {
   "cell_type": "markdown",
   "source": [
    "# Set Prams, open the slide and get Tile in Slide"
   ],
   "metadata": {}
  },
  {
   "cell_type": "code",
   "execution_count": null,
   "source": [
    "# tile parameter\n",
    "# pixel/ microm = 4.3\n",
    "num_classes = len(qp_class_dic)\n",
    "location_x, location_y, size = (50000, 8000, 4096) "
   ],
   "outputs": [],
   "metadata": {}
  },
  {
   "cell_type": "code",
   "execution_count": null,
   "source": [
    "slide = qp.images[0]  # get the first image\n",
    "with OpenSlide(os.path.join(\"Qupath_data\", \"Slides zum Training\", slide.image_name)) as slide_data:\n",
    "# slide_data = openslide.OpenSlide(os.path.join(\"Qupath_data\", \"Slides zum Training\", slide.image_name))\n",
    "    img_data = slide_data.read_region((location_x, location_y), 0, (size, size))\n",
    "plt.imshow(np.array(img_data))"
   ],
   "outputs": [],
   "metadata": {}
  },
  {
   "cell_type": "markdown",
   "source": [
    "# Detect intersections between img tile and annotations"
   ],
   "metadata": {}
  },
  {
   "cell_type": "code",
   "execution_count": null,
   "source": [
    "slide = qp.images[0]\n",
    "hier_data = slide.hierarchy.to_geojson()\n",
    "geo_list_tile = []\n",
    "tile_intersections = []\n",
    "polygon_tile = Polygon(([location_x, location_y], [location_x + size, location_y], [location_x + size, location_y + size], [location_x, location_y + size]))\n",
    "for geojson in hier_data:\n",
    "    try:\n",
    "        annot_class = geojson[\"properties\"][\"classification\"][\"name\"]\n",
    "    except KeyError:\n",
    "        continue\n",
    "    poly_data = geojson['geometry']['coordinates']\n",
    "    try:    \n",
    "        polygon_annot = Polygon(poly_data[0], poly_data[1:]) if len(poly_data) > 1 else Polygon(poly_data[0])\n",
    "    except (ValueError, AssertionError) as e:\n",
    "        poly_data_squeezed = []\n",
    "        for i in range(len(poly_data)):\n",
    "            poly_data_squeezed.append(np.array(poly_data[i]).squeeze())\n",
    "        try:\n",
    "            polygon_annot = Polygon(poly_data_squeezed[0], poly_data_squeezed[1:]) if len(poly_data_squeezed) > 1 else Polygon(poly_data_squeezed[0])\n",
    "        except ValueError:\n",
    "            poly_data_squeezed[0] = poly_data_squeezed[0][0]\n",
    "    \n",
    "    intersection = polygon_annot.intersection(polygon_tile)\n",
    "    if not intersection.is_empty:\n",
    "        tile_intersections.append((annot_class, intersection))\n",
    "print(len(tile_intersections))"
   ],
   "outputs": [],
   "metadata": {}
  },
  {
   "cell_type": "markdown",
   "source": [
    "# read in intersection(s) as new annotations in the QuPath Project"
   ],
   "metadata": {}
  },
  {
   "cell_type": "code",
   "execution_count": null,
   "source": [
    "# for intersection in tile_intersections:\n",
    "#     slide.hierarchy.add_annotation(intersection, path_class= qp.path_classes[12])\n",
    "# qp.save()"
   ],
   "outputs": [],
   "metadata": {}
  },
  {
   "cell_type": "markdown",
   "source": [
    "# Visualize annotations in tile (size,size)"
   ],
   "metadata": {}
  },
  {
   "cell_type": "code",
   "execution_count": null,
   "source": [
    "## translate the annot for tile\n",
    "# tile_annot = []\n",
    "img_mask = np.zeros((size,size))\n",
    "for i, intersection_data in enumerate(tile_intersections):\n",
    "    _, intersection = intersection_data\n",
    "    trans_inter = shapely.affinity.translate(intersection, location_x * -1, location_y * -1)\n",
    "    # tile_annot.append(translated_intersection)\n",
    "\n",
    "    ## vis annotations in tile\n",
    "    int_coords = lambda coords: np.array(coords).round().astype(np.int32)\n",
    "    exteriors = [int_coords(trans_inter.exterior.coords)]\n",
    "    interiors = [int_coords(poly) for poly in trans_inter.interiors]\n",
    "    \n",
    "    cv2.fillPoly(img_mask, exteriors, i + 1)\n",
    "    cv2.fillPoly(img_mask, interiors, 0)\n",
    "plt.imshow(img_mask)\n",
    "plt.show()"
   ],
   "outputs": [],
   "metadata": {}
  },
  {
   "cell_type": "markdown",
   "source": [
    "# Extract tile and tile anotations to numpy arrays\n",
    "## shape picture: (size, size)\n",
    "## shape annotations: (num_class, size, size) "
   ],
   "metadata": {}
  },
  {
   "cell_type": "code",
   "execution_count": null,
   "source": [
    "label_img = np.zeros((num_classes,size,size))\n",
    "for inter_class, intersection in tile_intersections:\n",
    "    class_num = qp_class_dic[inter_class]\n",
    "    label_mask = label_img[class_num]\n",
    "\n",
    "    trans_inter = shapely.affinity.translate(intersection, location_x * -1, location_y * -1)\n",
    "\n",
    "    int_coords = lambda coords: np.array(coords).round().astype(np.int32)\n",
    "    exteriors = [int_coords(trans_inter.exterior.coords)]\n",
    "    interiors = [int_coords(poly) for poly in trans_inter.interiors]\n",
    "    \n",
    "    cv2.fillPoly(label_mask, exteriors, 1)\n",
    "    cv2.fillPoly(label_mask, interiors, 0)\n",
    "\n",
    "    label_img[class_num] = label_mask"
   ],
   "outputs": [],
   "metadata": {}
  }
 ],
 "metadata": {
  "orig_nbformat": 4,
  "language_info": {
   "name": "python",
   "version": "3.9.9",
   "mimetype": "text/x-python",
   "codemirror_mode": {
    "name": "ipython",
    "version": 3
   },
   "pygments_lexer": "ipython3",
   "nbconvert_exporter": "python",
   "file_extension": ".py"
  },
  "kernelspec": {
   "name": "python3",
   "display_name": "Python 3.9.9 64-bit"
  },
  "interpreter": {
   "hash": "4cd7ab41f5fca4b9b44701077e38c5ffd31fe66a6cab21e0214b68d958d0e462"
  }
 },
 "nbformat": 4,
 "nbformat_minor": 2
}