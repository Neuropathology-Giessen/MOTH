{
 "cells": [
  {
   "cell_type": "code",
   "execution_count": null,
   "metadata": {},
   "outputs": [],
   "source": [
    "from datasets import TiledQPDataset, RandomTiledQPDataset\n",
    "# requires: pip install matplotlib\n",
    "import matplotlib.pyplot as plt"
   ]
  },
  {
   "cell_type": "code",
   "execution_count": null,
   "metadata": {},
   "outputs": [],
   "source": [
    "dataset = TiledQPDataset('../../test/test_projects/qp_project/project.qpproj', [0], (256, 128), downsample_level = 2)\n",
    "print(\"Number of tiles: \" + str(dataset.__len__()))\n",
    "dataset_rand = RandomTiledQPDataset('../../test/test_projects/qp_project/project.qpproj', [0], (256, 128), 20, downsample_level = 2)"
   ]
  },
  {
   "cell_type": "code",
   "execution_count": null,
   "metadata": {},
   "outputs": [],
   "source": [
    "img, label = dataset.__getitem__(0)\n",
    "print(img.shape)\n",
    "# print(label.unique())\n",
    "print(label.shape)\n",
    "plt.imshow(label)\n",
    "plt.show()\n",
    "img, label = dataset.__getitem__(4)\n",
    "plt.imshow(label)\n",
    "plt.show()"
   ]
  },
  {
   "cell_type": "code",
   "execution_count": null,
   "metadata": {},
   "outputs": [],
   "source": [
    "mul = False\n",
    "count = 0\n",
    "while mul == False:\n",
    "    count += 1\n",
    "    img, label = dataset_rand.__getitem__(0)\n",
    "    if len(label.unique()) > 4:\n",
    "        mul = True\n",
    "print(f'This is the \"{count}.\" label')\n",
    "print(label.unique())\n",
    "print(label.shape)\n",
    "plt.imshow(label)\n",
    "plt.show()"
   ]
  }
 ],
 "metadata": {
  "kernelspec": {
   "display_name": "Python 3.9.9 64-bit",
   "language": "python",
   "name": "python3"
  },
  "language_info": {
   "codemirror_mode": {
    "name": "ipython",
    "version": 3
   },
   "file_extension": ".py",
   "mimetype": "text/x-python",
   "name": "python",
   "nbconvert_exporter": "python",
   "pygments_lexer": "ipython3",
   "version": "3.9.9"
  },
  "orig_nbformat": 4,
  "vscode": {
   "interpreter": {
    "hash": "949777d72b0d2535278d3dc13498b2535136f6dfe0678499012e853ee9abcab1"
   }
  }
 },
 "nbformat": 4,
 "nbformat_minor": 2
}
