{
 "cells": [
  {
   "cell_type": "code",
   "execution_count": null,
   "metadata": {},
   "outputs": [],
   "source": [
    "from pathlib import Path\n",
    "\n",
    "from typing import List\n",
    "import numpy as np\n",
    "from numpy.typing import NDArray\n",
    "import matplotlib.pyplot as plt\n",
    "from matplotlib.axes import Axes\n",
    "from mothi.tiling_projects import QuPathTilingProject\n",
    "from shapely.geometry import Point, Polygon\n",
    "from shapely.geometry.base import BaseGeometry\n",
    "from shapely.affinity import translate\n",
    "import cv2\n",
    "\n",
    "QP_Projectname = \"comp_project\""
   ]
  },
  {
   "cell_type": "code",
   "execution_count": null,
   "metadata": {},
   "outputs": [],
   "source": [
    "# create fig with ticks\n",
    "def plot_image_mask(image: NDArray[np.int_], offset: float = 0.5,  *, label_dist: int = 5, tick_distance: int = 1) -> Axes:\n",
    "\n",
    "    major_ticks_x = np.arange(0, image.shape[1], label_dist)\n",
    "    minor_ticks_x = np.arange(0 + offset, image.shape[1], tick_distance)\n",
    "\n",
    "    major_ticks_y = np.arange(0, image.shape[0], label_dist)\n",
    "    minor_ticks_y = np.arange(0 + offset, image.shape[0], tick_distance)        \n",
    "\n",
    "    fig, ax = plt.subplots()\n",
    "    ax.set_xticks(major_ticks_x)\n",
    "    ax.set_yticks(major_ticks_y)\n",
    "    ax.set_xticks(minor_ticks_x, minor=True)\n",
    "    ax.set_yticks(minor_ticks_y, minor=True)\n",
    "    ax.grid(which='minor')\n",
    "    ax.imshow(image)\n",
    "    return ax\n",
    "\n",
    "def overlay_image(img_ax: Axes, shape: BaseGeometry) -> Axes:\n",
    "    offset_shape = translate(shape, -0.5, -0.5)\n",
    "    img_ax.plot(*offset_shape.exterior.xy)\n",
    "    return img_ax"
   ]
  },
  {
   "cell_type": "code",
   "execution_count": null,
   "metadata": {},
   "outputs": [],
   "source": [
    "# list ground truth shapes\n",
    "ground_truth_shapes: List[BaseGeometry] = [\n",
    "    Point(6, 6).buffer(1),\n",
    "    Polygon(((10.5,5.5),(15.5,5.5),(15.5,10.5),(10.5,10.5))),\n",
    "    #Point(16,6).buffer(1.5),\n",
    "    Point(21.5,6.5).buffer(2.5)\n",
    "]\n",
    "\n",
    "# get tile from QuPath with mothi\n",
    "qp = QuPathTilingProject(QP_Projectname)\n",
    "mask = qp.get_tile_annot_mask(0, (0,0), (25,12))\n",
    "# plot tile mask\n",
    "img_ax: Axes = plot_image_mask(mask, label_dist=2, tick_distance=1)\n",
    "for shape in ground_truth_shapes:\n",
    "    img_ax = overlay_image(img_ax, shape)\n",
    "plt.show()"
   ]
  },
  {
   "cell_type": "code",
   "execution_count": null,
   "metadata": {},
   "outputs": [],
   "source": [
    "groovy_im = cv2.imread('/workspaces/MOTH/comparison_groovy/groovy_export/white-32-labels.png')\n",
    "groovy_im = np.array(cv2.cvtColor(groovy_im, cv2.COLOR_BGR2GRAY), dtype=np.int_)\n",
    "groovy_ax = plot_image_mask(groovy_im)\n",
    "for shape in ground_truth_shapes:\n",
    "    groovy_ax = overlay_image(groovy_ax, shape)\n",
    "plt.show()"
   ]
  }
 ],
 "metadata": {
  "kernelspec": {
   "display_name": "Python 3.9.9 64-bit",
   "language": "python",
   "name": "python3"
  },
  "language_info": {
   "codemirror_mode": {
    "name": "ipython",
    "version": 3
   },
   "file_extension": ".py",
   "mimetype": "text/x-python",
   "name": "python",
   "nbconvert_exporter": "python",
   "pygments_lexer": "ipython3",
   "version": "3.9.9"
  },
  "orig_nbformat": 4,
  "vscode": {
   "interpreter": {
    "hash": "949777d72b0d2535278d3dc13498b2535136f6dfe0678499012e853ee9abcab1"
   }
  }
 },
 "nbformat": 4,
 "nbformat_minor": 2
}
