{
 "cells": [
  {
   "cell_type": "markdown",
   "metadata": {},
   "source": [
    "### create the QuPath project with defined annotations"
   ]
  },
  {
   "cell_type": "code",
   "execution_count": null,
   "metadata": {},
   "outputs": [],
   "source": [
    "from paquo.projects import QuPathProject\n",
    "from paquo.classes import QuPathPathClass\n",
    "import pickle as pkl\n",
    "from shapely.geometry import Polygon"
   ]
  },
  {
   "cell_type": "code",
   "execution_count": null,
   "metadata": {},
   "outputs": [],
   "source": [
    "qp_project_path = 'qp_project'\n",
    "qp_mode = 'r+'\n",
    "\n",
    "qp_project = QuPathProject(qp_project_path, qp_mode)"
   ]
  },
  {
   "cell_type": "code",
   "execution_count": null,
   "metadata": {},
   "outputs": [],
   "source": [
    "# clear project\n",
    "qp_project.update_image_paths(try_relative=True)\n",
    "qp_project.images[0]"
   ]
  },
  {
   "cell_type": "code",
   "execution_count": null,
   "metadata": {},
   "outputs": [],
   "source": [
    "# clear annotations\n",
    "print(qp_project.images[0].hierarchy.annotations.clear())\n",
    "\n",
    "# add annotations with paquo\n",
    "annotations_to_add = []\n",
    "# random annotations (hand drawn) for the top left 500x500 px\n",
    "with open('test_annotations.pkl', 'rb') as dump_file:\n",
    "    annotations = pkl.load(dump_file)\n",
    "    annotations_to_add.extend(annotations)\n",
    "\n",
    "# structured annoations for predictive results in tiling and tile merging\n",
    "rectangle = Polygon(shell = [(510, 10), (1410, 10), (1410, 910), (510, 910)])\n",
    "rectangl_2 = Polygon(shell= [(10, 510), (510, 510), (510, 910), (10, 910)])\n",
    "annotations_to_add.extend((rectangle, rectangl_2))\n",
    "# plt.plot(*rectangle.exterior.coords.xy)\n",
    "# plt.show()\n",
    "path_classes = [QuPathPathClass(('class_' + str(i))) for i in range(10)]\n",
    "qp_project.path_classes = path_classes \n",
    "print(len(qp_project.path_classes))\n",
    "\n",
    "for i, annotation in enumerate(annotations_to_add):\n",
    "    qp_project.images[0].hierarchy.add_annotation(annotation, qp_project.path_classes[i % len(qp_project.path_classes)])\n",
    "qp_project.update_image_paths(try_relative=True)\n",
    "qp_project.save()"
   ]
  }
 ],
 "metadata": {
  "interpreter": {
   "hash": "949777d72b0d2535278d3dc13498b2535136f6dfe0678499012e853ee9abcab1"
  },
  "kernelspec": {
   "display_name": "Python 3.9.9 64-bit",
   "language": "python",
   "name": "python3"
  },
  "language_info": {
   "codemirror_mode": {
    "name": "ipython",
    "version": 3
   },
   "file_extension": ".py",
   "mimetype": "text/x-python",
   "name": "python",
   "nbconvert_exporter": "python",
   "pygments_lexer": "ipython3",
   "version": "3.9.9"
  },
  "orig_nbformat": 4
 },
 "nbformat": 4,
 "nbformat_minor": 2
}
